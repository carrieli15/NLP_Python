{
 "cells": [
  {
   "cell_type": "markdown",
   "metadata": {},
   "source": [
    "## Tests for Marcov Text Gerneration"
   ]
  },
  {
   "cell_type": "markdown",
   "metadata": {},
   "source": [
    "### When words are [\"she\",\"was\",\"not\"], n = 1, randomize = False:"
   ]
  },
  {
   "cell_type": "code",
   "execution_count": 5,
   "metadata": {},
   "outputs": [
    {
     "name": "stdout",
     "output_type": "stream",
     "text": [
      "['she', 'was', 'not', ',', ',', ',', ',', ',', ',', ',']\n"
     ]
    }
   ],
   "source": [
    "from mtg import finish_sentence\n",
    "import nltk\n",
    "# -----------------------test the marcov----------------------------------\n",
    "if __name__ == '__main__':\n",
    "    test_centence = [\"she\",\"was\",\"not\"]\n",
    "    n = 1\n",
    "    corpus = nltk.word_tokenize(\n",
    "    nltk.corpus.gutenberg.raw(\"austen-sense.txt\").lower())\n",
    "    randomize = False \n",
    "    result_deterministic = finish_sentence(test_centence,n,corpus,randomize)\n",
    "    print(result_deterministic)"
   ]
  },
  {
   "cell_type": "markdown",
   "metadata": {},
   "source": [
    "### When words are [\"she\",\"was\",\"not\"], n = 2, randomize = False:"
   ]
  },
  {
   "cell_type": "code",
   "execution_count": 6,
   "metadata": {},
   "outputs": [
    {
     "name": "stdout",
     "output_type": "stream",
     "text": [
      "['she', 'was', 'not', 'be', 'a', 'very', 'well', ',', 'and', 'the']\n"
     ]
    }
   ],
   "source": [
    "test_centence = [\"she\",\"was\",\"not\"]\n",
    "n = 2\n",
    "corpus = nltk.word_tokenize(\n",
    "nltk.corpus.gutenberg.raw(\"austen-sense.txt\").lower())\n",
    "randomize = False \n",
    "result_deterministic = finish_sentence(test_centence,n,corpus,randomize)\n",
    "print(result_deterministic)"
   ]
  },
  {
   "cell_type": "markdown",
   "metadata": {},
   "source": [
    "### When words are [\"she\",\"was\",\"not\"], n = 3, randomize = False:"
   ]
  },
  {
   "cell_type": "code",
   "execution_count": 1,
   "metadata": {},
   "outputs": [
    {
     "name": "stdout",
     "output_type": "stream",
     "text": [
      "['she', 'was', 'not', 'in', 'the', 'world', '.']\n"
     ]
    }
   ],
   "source": [
    "\n",
    "test_centence = [\"she\",\"was\",\"not\"]\n",
    "n = 3\n",
    "corpus = nltk.word_tokenize(\n",
    "nltk.corpus.gutenberg.raw(\"austen-sense.txt\").lower())\n",
    "randomize = False \n",
    "result_deterministic = finish_sentence(test_centence,n,corpus,randomize)\n",
    "print(result_deterministic)\n",
    "\n",
    "    "
   ]
  },
  {
   "cell_type": "markdown",
   "metadata": {},
   "source": [
    "### When words are [\"she\",\"was\",\"not\"], n = 1, randomize = True:"
   ]
  },
  {
   "cell_type": "code",
   "execution_count": 7,
   "metadata": {},
   "outputs": [
    {
     "name": "stdout",
     "output_type": "stream",
     "text": [
      "['she', 'was', 'not', 'of', ',', 'she', 'it', 'of', 'not', ',']\n"
     ]
    }
   ],
   "source": [
    "test_centence = [\"she\",\"was\",\"not\"]\n",
    "n = 1\n",
    "corpus = nltk.word_tokenize(\n",
    "nltk.corpus.gutenberg.raw(\"austen-sense.txt\").lower())\n",
    "randomize = True \n",
    "result_deterministic = finish_sentence(test_centence,n,corpus,randomize)\n",
    "print(result_deterministic)"
   ]
  },
  {
   "cell_type": "markdown",
   "metadata": {},
   "source": [
    "### When words are [\"she\",\"was\",\"not\"], n = 2, randomize = True:"
   ]
  },
  {
   "cell_type": "code",
   "execution_count": 8,
   "metadata": {},
   "outputs": [
    {
     "name": "stdout",
     "output_type": "stream",
     "text": [
      "['she', 'was', 'not', 'know', 'too', 'well', ',', 'when', 'the', 'human']\n"
     ]
    }
   ],
   "source": [
    "test_centence = [\"she\",\"was\",\"not\"]\n",
    "n = 2\n",
    "corpus = nltk.word_tokenize(\n",
    "nltk.corpus.gutenberg.raw(\"austen-sense.txt\").lower())\n",
    "randomize = True \n",
    "result_deterministic = finish_sentence(test_centence,n,corpus,randomize)\n",
    "print(result_deterministic)"
   ]
  },
  {
   "cell_type": "markdown",
   "metadata": {},
   "source": [
    "### When words are [\"she\",\"was\",\"not\"], n = 3, randomize = True: "
   ]
  },
  {
   "cell_type": "code",
   "execution_count": 20,
   "metadata": {},
   "outputs": [
    {
     "name": "stdout",
     "output_type": "stream",
     "text": [
      "['she', 'was', 'not', 'in', 'mrs.', 'dashwood', 'and', 'margaret', ',', '``']\n"
     ]
    }
   ],
   "source": [
    "\n",
    "test_centence = [\"she\",\"was\",\"not\"]\n",
    "n = 3\n",
    "corpus = nltk.word_tokenize(\n",
    "nltk.corpus.gutenberg.raw(\"austen-sense.txt\").lower())\n",
    "randomize = True \n",
    "result_deterministic = finish_sentence(test_centence,n,corpus,randomize)\n",
    "print(result_deterministic)\n",
    "\n"
   ]
  },
  {
   "cell_type": "markdown",
   "metadata": {},
   "source": [
    "### When word is [\"robot\"], n = 2, randomize = False:"
   ]
  },
  {
   "cell_type": "code",
   "execution_count": 9,
   "metadata": {},
   "outputs": [
    {
     "name": "stdout",
     "output_type": "stream",
     "text": [
      "['robot', ',', 'and', 'the', 'same', 'time', ',', 'and', 'the', 'same']\n"
     ]
    }
   ],
   "source": [
    "test_centence = [\"robot\"]\n",
    "n = 2\n",
    "corpus = nltk.word_tokenize(\n",
    "nltk.corpus.gutenberg.raw(\"austen-sense.txt\").lower())\n",
    "randomize = False \n",
    "result_deterministic = finish_sentence(test_centence,n,corpus,randomize)\n",
    "print(result_deterministic)"
   ]
  },
  {
   "cell_type": "markdown",
   "metadata": {},
   "source": [
    "### When word is [\"robot\"], n = 3, randomize = False:"
   ]
  },
  {
   "cell_type": "code",
   "execution_count": 2,
   "metadata": {},
   "outputs": [
    {
     "name": "stdout",
     "output_type": "stream",
     "text": [
      "['robot', ',', 'and', 'the', 'two', 'miss', 'steeles', ',', 'as', 'she']\n"
     ]
    }
   ],
   "source": [
    "test_centence = [\"robot\"]\n",
    "n = 3\n",
    "corpus = nltk.word_tokenize(\n",
    "nltk.corpus.gutenberg.raw(\"austen-sense.txt\").lower())\n",
    "randomize = False \n",
    "result_deterministic = finish_sentence(test_centence,n,corpus,randomize)\n",
    "print(result_deterministic)"
   ]
  },
  {
   "cell_type": "markdown",
   "metadata": {},
   "source": [
    "### When word is [\"robot\"], n = 2, randomize = True:"
   ]
  },
  {
   "cell_type": "code",
   "execution_count": 10,
   "metadata": {},
   "outputs": [
    {
     "name": "stdout",
     "output_type": "stream",
     "text": [
      "['robot', 'marianne', 'with', 'the', 'habit', 'of', 'shewing', 'that', 'she', 'regarded']\n"
     ]
    }
   ],
   "source": [
    "test_centence = [\"robot\"]\n",
    "n = 2\n",
    "corpus = nltk.word_tokenize(\n",
    "nltk.corpus.gutenberg.raw(\"austen-sense.txt\").lower())\n",
    "randomize = True \n",
    "result_deterministic = finish_sentence(test_centence,n,corpus,randomize)\n",
    "print(result_deterministic)"
   ]
  },
  {
   "cell_type": "markdown",
   "metadata": {},
   "source": [
    "### When word is [\"robot\"], n = 3, randomize = True:"
   ]
  },
  {
   "cell_type": "code",
   "execution_count": 11,
   "metadata": {},
   "outputs": [
    {
     "name": "stdout",
     "output_type": "stream",
     "text": [
      "['robot', 'of', 'a', 'man', 'of', 'fortune', '.']\n"
     ]
    }
   ],
   "source": [
    "test_centence = [\"robot\"]\n",
    "n = 3\n",
    "corpus = nltk.word_tokenize(\n",
    "nltk.corpus.gutenberg.raw(\"austen-sense.txt\").lower())\n",
    "randomize = True \n",
    "result_deterministic = finish_sentence(test_centence,n,corpus,randomize)\n",
    "print(result_deterministic)"
   ]
  }
 ],
 "metadata": {
  "kernelspec": {
   "display_name": "Python 3",
   "language": "python",
   "name": "python3"
  },
  "language_info": {
   "codemirror_mode": {
    "name": "ipython",
    "version": 3
   },
   "file_extension": ".py",
   "mimetype": "text/x-python",
   "name": "python",
   "nbconvert_exporter": "python",
   "pygments_lexer": "ipython3",
   "version": "3.11.0"
  },
  "orig_nbformat": 4
 },
 "nbformat": 4,
 "nbformat_minor": 2
}
